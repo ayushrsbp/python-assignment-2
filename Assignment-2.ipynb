{
 "cells": [
  {
   "cell_type": "code",
   "execution_count": 1,
   "id": "875783ec-16ec-4f79-84d6-cbe0f559197a",
   "metadata": {},
   "outputs": [],
   "source": [
    "# Q1.\n",
    "# The code written in single line is commented by using # before the line and the code written in multiple lines is commented by using \"\"\" before start of code and after end of code. However, multiple line code can be also commented by using # before each and every line of code.\n",
    "# There are two types of comments:\n",
    "#     1. Single Line Comments(by using #)\n",
    "#     2. Multiple Line Comments(by using \"\"\"..\"\"\")"
   ]
  },
  {
   "cell_type": "code",
   "execution_count": 2,
   "id": "2b87b415-5ef7-4af8-b53f-63ef93bd17e4",
   "metadata": {},
   "outputs": [],
   "source": [
    "# Q2.\n",
    "# Variables is just like a container which stores different types of data.\n",
    "# When we assign value to variables by using assignment operator(=), variables declare automatically.\n",
    "# ex- \n",
    "a = \"Ayush\""
   ]
  },
  {
   "cell_type": "code",
   "execution_count": 4,
   "id": "46013600-0183-4339-95b5-40dcbc10bb1c",
   "metadata": {},
   "outputs": [],
   "source": [
    "# Q3.\n",
    "# We can convert one data type to another in python by type casting.\n",
    "# ex-\n",
    "a = 45 # Here, a is of int type.\n",
    "b = str(a) # Now, it has converted into str type."
   ]
  },
  {
   "cell_type": "code",
   "execution_count": 5,
   "id": "632a18e6-2e00-406f-9412-2698e7fd78bc",
   "metadata": {},
   "outputs": [],
   "source": [
    "# Q4.\n",
    "# We create a file having extension .py in texteditor. Then, we write our python code in this file. we open terminal window and go into the directory where we have saved the file and write python file_name.py."
   ]
  },
  {
   "cell_type": "code",
   "execution_count": 6,
   "id": "221624d4-5c44-4ec9-b197-825f87b6ef2c",
   "metadata": {},
   "outputs": [
    {
     "data": {
      "text/plain": [
       "[2, 3]"
      ]
     },
     "execution_count": 6,
     "metadata": {},
     "output_type": "execute_result"
    }
   ],
   "source": [
    "# Q5.\n",
    "my_list = [1, 2, 3, 4, 5]\n",
    "my_list[1:3]"
   ]
  },
  {
   "cell_type": "code",
   "execution_count": 7,
   "id": "4f207ea4-8691-4853-9fc1-ee2ee9fdb14d",
   "metadata": {},
   "outputs": [],
   "source": [
    "#Q6.\n",
    "#The numbers that are expressed in the form of a+ib where, a,b are real numbers and 'i' is an imaginary number called “iota”. The value of i = (√-1).\n",
    "complex_num = 4+5j # j can't be replaced by i or else"
   ]
  },
  {
   "cell_type": "code",
   "execution_count": 8,
   "id": "3c37d320-87bd-45fd-a1ee-5d98ead89e5d",
   "metadata": {},
   "outputs": [],
   "source": [
    "# Q7.\n",
    "age = 25"
   ]
  },
  {
   "cell_type": "code",
   "execution_count": 9,
   "id": "4b3a9739-b7f8-4e20-a742-b0fc938cf519",
   "metadata": {},
   "outputs": [
    {
     "data": {
      "text/plain": [
       "float"
      ]
     },
     "execution_count": 9,
     "metadata": {},
     "output_type": "execute_result"
    }
   ],
   "source": [
    "#Q8.\n",
    "price = 9.99\n",
    "#price is of float type.\n",
    "type(price)"
   ]
  },
  {
   "cell_type": "code",
   "execution_count": 10,
   "id": "ba1cd092-fab1-4fd3-88b4-c2af7a7cc5a4",
   "metadata": {},
   "outputs": [
    {
     "name": "stdout",
     "output_type": "stream",
     "text": [
      "Ayush Raj\n"
     ]
    }
   ],
   "source": [
    "# Q9.\n",
    "name = \"Ayush Raj\"\n",
    "print(name)"
   ]
  },
  {
   "cell_type": "code",
   "execution_count": 14,
   "id": "f851f8dc-3692-412e-aea8-b704996865e0",
   "metadata": {},
   "outputs": [
    {
     "data": {
      "text/plain": [
       "'World'"
      ]
     },
     "execution_count": 14,
     "metadata": {},
     "output_type": "execute_result"
    }
   ],
   "source": [
    "#Q10.\n",
    "s = \"Hello, World\"\n",
    "s[7:]"
   ]
  },
  {
   "cell_type": "code",
   "execution_count": 15,
   "id": "c97cd75f-3179-4144-bab8-83e3521db890",
   "metadata": {},
   "outputs": [],
   "source": [
    "#Q11.\n",
    "is_student = True"
   ]
  }
 ],
 "metadata": {
  "kernelspec": {
   "display_name": "Python 3 (ipykernel)",
   "language": "python",
   "name": "python3"
  },
  "language_info": {
   "codemirror_mode": {
    "name": "ipython",
    "version": 3
   },
   "file_extension": ".py",
   "mimetype": "text/x-python",
   "name": "python",
   "nbconvert_exporter": "python",
   "pygments_lexer": "ipython3",
   "version": "3.10.8"
  }
 },
 "nbformat": 4,
 "nbformat_minor": 5
}
